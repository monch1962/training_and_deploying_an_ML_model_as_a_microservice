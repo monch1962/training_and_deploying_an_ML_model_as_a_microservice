{
  "nbformat": 4,
  "nbformat_minor": 0,
  "metadata": {
    "anaconda-cloud": {},
    "kernelspec": {
      "display_name": "Python 3",
      "language": "python",
      "name": "python3"
    },
    "language_info": {
      "codemirror_mode": {
        "name": "ipython",
        "version": 2
      },
      "file_extension": ".py",
      "mimetype": "text/x-python",
      "name": "python",
      "nbconvert_exporter": "python",
      "pygments_lexer": "ipython2",
      "version": "2.7.3"
    },
    "pycharm": {
      "stem_cell": {
        "cell_type": "raw",
        "metadata": {
          "collapsed": false
        },
        "source": []
      }
    },
    "colab": {
      "name": "score_reviews_via_service.ipynb",
      "provenance": [],
      "collapsed_sections": [],
      "include_colab_link": true
    }
  },
  "cells": [
    {
      "cell_type": "markdown",
      "metadata": {
        "id": "view-in-github",
        "colab_type": "text"
      },
      "source": [
        "<a href=\"https://colab.research.google.com/github/monch1962/training_and_deploying_an_ML_model_as_a_microservice/blob/master/score_reviews_via_service.ipynb\" target=\"_parent\"><img src=\"https://colab.research.google.com/assets/colab-badge.svg\" alt=\"Open In Colab\"/></a>"
      ]
    },
    {
      "cell_type": "markdown",
      "metadata": {
        "id": "9h4ajFVEkCzR",
        "colab_type": "text"
      },
      "source": [
        "## Part 1: Existing Machine Learning Services\n",
        "\n",
        "<a href=\"https://colab.research.google.com/github/peckjon/hosting-ml-as-microservice/blob/master/part1/score_reviews_via_service.ipynb\" target=\"_parent\"><img src=\"https://colab.research.google.com/assets/colab-badge.svg\" alt=\"Open In Colab\"/></a>"
      ]
    },
    {
      "cell_type": "markdown",
      "metadata": {
        "id": "2WhQD1GqkCzT",
        "colab_type": "text"
      },
      "source": [
        "### Obtain labelled reviews\n",
        "\n",
        "In order to test any of the sentiment analysis APIs, we need a labelled dataset of reviews and their sentiment polarity. We'll use NLTK to download the movie_reviews corpus."
      ]
    },
    {
      "cell_type": "code",
      "metadata": {
        "pycharm": {
          "name": "#%%\n"
        },
        "id": "SFNqn9k0kCzU",
        "colab_type": "code",
        "outputId": "c1965eed-145d-427a-8d0e-0a33920e4501",
        "colab": {
          "base_uri": "https://localhost:8080/",
          "height": 68
        }
      },
      "source": [
        "from nltk import download\n",
        "\n",
        "download('movie_reviews')"
      ],
      "execution_count": 25,
      "outputs": [
        {
          "output_type": "stream",
          "text": [
            "[nltk_data] Downloading package movie_reviews to /root/nltk_data...\n",
            "[nltk_data]   Package movie_reviews is already up-to-date!\n"
          ],
          "name": "stdout"
        },
        {
          "output_type": "execute_result",
          "data": {
            "text/plain": [
              "True"
            ]
          },
          "metadata": {
            "tags": []
          },
          "execution_count": 25
        }
      ]
    },
    {
      "cell_type": "markdown",
      "metadata": {
        "id": "L7SdBESbkCza",
        "colab_type": "text"
      },
      "source": [
        "### Load the data\n",
        "\n",
        "The files in movie_reviews have already been divided into two sets: positive ('pos') and negative ('neg'), so we can load the raw text of the reviews into two lists, one for each polarity."
      ]
    },
    {
      "cell_type": "code",
      "metadata": {
        "id": "PSxiTGRokCzb",
        "colab_type": "code",
        "colab": {}
      },
      "source": [
        "from nltk.corpus import movie_reviews\n",
        "\n",
        "# extract words from reviews, pair with label\n",
        "\n",
        "reviews_pos = []\n",
        "for fileid in movie_reviews.fileids('pos'):\n",
        "    review = movie_reviews.raw(fileid)\n",
        "    reviews_pos.append(review)\n",
        "\n",
        "reviews_neg = []\n",
        "for fileid in movie_reviews.fileids('neg'):\n",
        "    review = movie_reviews.raw(fileid)\n",
        "    reviews_neg.append(review)"
      ],
      "execution_count": 0,
      "outputs": []
    },
    {
      "cell_type": "markdown",
      "metadata": {
        "id": "RH8HQ6kCkCzg",
        "colab_type": "text"
      },
      "source": [
        "### Connect to the scoring API\n",
        "\n",
        "Fill in this function with code that connects to one of these APIs, and uses it to score a single review:\n",
        "\n",
        "* [Amazon Comprehend: Detect Sentiment](https://docs.aws.amazon.com/comprehend/latest/dg/API_DetectSentiment.html)\n",
        "* [Google Natural Language: Analyzing Sentiment](https://cloud.google.com/natural-language/docs/analyzing-sentiment)\n",
        "* [Azure Cognitive Services: Sentiment Analysis](https://docs.microsoft.com/en-us/azure/cognitive-services/text-analytics/how-tos/text-analytics-how-to-sentiment-analysis)\n",
        "* [Algorithmia: Sentiment Analysis](https://algorithmia.com/algorithms/nlp/SentimentAnalysis)\n",
        "\n",
        "Your function must return either 'pos' or 'neg', so you'll need to make some decisions about how to map the results of the API call to one of these values. For example, Amazon Comprehend can return \"NEUTRAL\" or \"MIXED\" for the Sentiment -- if this happens, you may with to inspect the numeric values under the SentimentScore to see whether it leans toward positive or negative.\n"
      ]
    },
    {
      "cell_type": "code",
      "metadata": {
        "id": "TQp4BIRIotve",
        "colab_type": "code",
        "outputId": "4a1bda86-34fd-4693-a92c-20532e41ae6a",
        "colab": {
          "base_uri": "https://localhost:8080/",
          "height": 51
        }
      },
      "source": [
        "!pip install -U -q PyDrive\n",
        "# Imports\n",
        "import os\n",
        "from pydrive.auth import GoogleAuth\n",
        "from pydrive.drive import GoogleDrive\n",
        "from google.colab import auth\n",
        "from oauth2client.client import GoogleCredentials\n",
        "\n",
        "# Google drive authentication\n",
        "auth.authenticate_user()\n",
        "gauth = GoogleAuth()\n",
        "gauth.credentials = GoogleCredentials.get_application_default()\n",
        "drive = GoogleDrive(gauth)\n",
        "\n",
        "# File params\n",
        "local_save_dir = \"/root/.aws\"\n",
        "filename = \"credentials\"\n",
        "save_path = \"{0}/{1}\".format(local_save_dir, filename)\n",
        "\n",
        "# Choose/create a local (colab) directory to store the data.\n",
        "local_download_path = os.path.expanduser(local_save_dir)\n",
        "try:\n",
        "  os.makedirs(local_download_path)\n",
        "except: pass\n",
        "\n",
        "drive_list = drive.ListFile().GetList()\n",
        "f = [x for x in drive_list if x[\"title\"] == filename][0]\n",
        "\n",
        "print('title: %s, id: %s' % (f['title'], f['id']))\n",
        "fname = os.path.join(local_download_path, f['title'])\n",
        "print('downloading to {}'.format(fname))\n",
        "f_ = drive.CreateFile({'id': f['id']})\n",
        "f_.GetContentFile(fname)\n",
        "\n",
        "with open(save_path) as creds:\n",
        "    for i, line in enumerate(creds):\n",
        "        if i == 1:\n",
        "            access_token_key = line.replace(\"aws_access_key_id=\", \"\").replace(\"\\n\", \"\")\n",
        "        if i == 2:\n",
        "            access_token_secret = line.replace(\"aws_secret_access_key=\", \"\").replace(\"\\n\", \"\")"
      ],
      "execution_count": 27,
      "outputs": [
        {
          "output_type": "stream",
          "text": [
            "title: credentials, id: 13qj2P7nEJSfKLO7tHDg107-uMFghVf9v\n",
            "downloading to /root/.aws/credentials\n"
          ],
          "name": "stdout"
        }
      ]
    },
    {
      "cell_type": "code",
      "metadata": {
        "id": "H1XjCHG7kCzh",
        "colab_type": "code",
        "outputId": "efc0687c-8a98-48bf-e69b-828544b28694",
        "colab": {
          "base_uri": "https://localhost:8080/",
          "height": 425
        }
      },
      "source": [
        "import boto3\n",
        "import json\n",
        "\n",
        "def score_review(review):\n",
        "    # TBD: call the service and return 'pos' or 'neg'\n",
        "    comprehend = boto3.client(service_name='comprehend', region_name='ap-southeast-2')\n",
        "    response = comprehend.detect_sentiment(Text=review[:5000], LanguageCode='en') # Workaround for max 5000 character limit inside AWS Comprehend\n",
        " \n",
        "    if response[\"Sentiment\"] == \"POSITIVE\":\n",
        "        return 'pos'\n",
        "    elif response[\"Sentiment\"] == \"NEGATIVE\":\n",
        "        return 'neg'\n",
        "    elif response['SentimentScore']['Negative'] > response['SentimentScore']['Positive']:\n",
        "        return 'neg'\n",
        "    \n",
        "    return 'pos'"
      ],
      "execution_count": 28,
      "outputs": [
        {
          "output_type": "stream",
          "text": [
            "Calling DetectSentiment\n",
            "{\n",
            "    \"ResponseMetadata\": {\n",
            "        \"HTTPHeaders\": {\n",
            "            \"content-length\": \"167\",\n",
            "            \"content-type\": \"application/x-amz-json-1.1\",\n",
            "            \"date\": \"Wed, 27 May 2020 06:06:18 GMT\",\n",
            "            \"x-amzn-requestid\": \"5bd64146-a6a5-4fc5-9c50-b6572f223db0\"\n",
            "        },\n",
            "        \"HTTPStatusCode\": 200,\n",
            "        \"RequestId\": \"5bd64146-a6a5-4fc5-9c50-b6572f223db0\",\n",
            "        \"RetryAttempts\": 0\n",
            "    },\n",
            "    \"Sentiment\": \"POSITIVE\",\n",
            "    \"SentimentScore\": {\n",
            "        \"Mixed\": 2.2560412617167458e-05,\n",
            "        \"Negative\": 0.0002988109190482646,\n",
            "        \"Neutral\": 0.0012165051884949207,\n",
            "        \"Positive\": 0.9984622001647949\n",
            "    }\n",
            "}\n",
            "POSITIVE\n",
            "End of DetectSentiment\n",
            "\n"
          ],
          "name": "stdout"
        }
      ]
    },
    {
      "cell_type": "markdown",
      "metadata": {
        "id": "14d1da9IkCzl",
        "colab_type": "text"
      },
      "source": [
        "### Score each review\n",
        "\n",
        "Now, we can use the function you defined to score each of the reviews"
      ]
    },
    {
      "cell_type": "code",
      "metadata": {
        "id": "xbf5L_i6kCzm",
        "colab_type": "code",
        "colab": {}
      },
      "source": [
        "results_pos = []\n",
        "for review in reviews_pos:\n",
        "    result = score_review(review)\n",
        "    results_pos.append(result)\n",
        "\n",
        "results_neg = []\n",
        "for review in reviews_neg:\n",
        "    result = score_review(review)\n",
        "    results_neg.append(result)"
      ],
      "execution_count": 0,
      "outputs": []
    },
    {
      "cell_type": "markdown",
      "metadata": {
        "id": "BZYmfCPYkCzr",
        "colab_type": "text"
      },
      "source": [
        "### Calculate accuracy\n",
        "\n",
        "For each of our known positive reviews, we can count the number which our function scored as 'pos', and use this to calculate the % accuracy. We repeaty this for negative reviews, and also for overall accuracy."
      ]
    },
    {
      "cell_type": "code",
      "metadata": {
        "id": "ww4VAC0_kCzs",
        "colab_type": "code",
        "outputId": "79b17b3d-6ab6-4845-b6e3-113358a7b393",
        "colab": {
          "base_uri": "https://localhost:8080/",
          "height": 68
        }
      },
      "source": [
        "correct_pos = results_pos.count('pos')\n",
        "accuracy_pos = float(correct_pos) / len(results_pos)\n",
        "correct_neg = results_neg.count('neg')\n",
        "accuracy_neg = float(correct_neg) / len(results_neg)\n",
        "correct_all = correct_pos + correct_neg\n",
        "accuracy_all = float(correct_all) / (len(results_pos)+len(results_neg))\n",
        "\n",
        "print('Positive reviews: {}% correct'.format(accuracy_pos*100))\n",
        "print('Negative reviews: {}% correct'.format(accuracy_neg*100))\n",
        "print('Overall accuracy: {}% correct'.format(accuracy_all*100))"
      ],
      "execution_count": 30,
      "outputs": [
        {
          "output_type": "stream",
          "text": [
            "Positive reviews: 75.3% correct\n",
            "Negative reviews: 56.99999999999999% correct\n",
            "Overall accuracy: 66.14999999999999% correct\n"
          ],
          "name": "stdout"
        }
      ]
    }
  ]
}